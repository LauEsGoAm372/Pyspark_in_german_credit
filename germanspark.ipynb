{
  "nbformat": 4,
  "nbformat_minor": 0,
  "metadata": {
    "colab": {
      "provenance": []
    },
    "kernelspec": {
      "name": "python3",
      "display_name": "Python 3"
    },
    "language_info": {
      "name": "python"
    }
  },
  "cells": [
    {
      "cell_type": "code",
      "execution_count": null,
      "metadata": {
        "colab": {
          "base_uri": "https://localhost:8080/"
        },
        "id": "2uTUdyLmDm8m",
        "outputId": "d241290d-2232-44fc-c628-c2a782fe3a86"
      },
      "outputs": [
        {
          "output_type": "stream",
          "name": "stdout",
          "text": [
            "Looking in indexes: https://pypi.org/simple, https://us-python.pkg.dev/colab-wheels/public/simple/\n",
            "Requirement already satisfied: pyspark in /usr/local/lib/python3.9/dist-packages (3.4.0)\n",
            "Requirement already satisfied: py4j==0.10.9.7 in /usr/local/lib/python3.9/dist-packages (from pyspark) (0.10.9.7)\n"
          ]
        }
      ],
      "source": [
        "  !pip install pyspark\n"
      ]
    },
    {
      "cell_type": "code",
      "source": [
        "from pyspark.sql import SparkSession\n",
        "from pyspark.ml.feature import StringIndexer\n",
        "from pyspark.ml.feature import VectorAssembler\n",
        "from pyspark.ml.regression import LinearRegression\n",
        "from pyspark.ml.classification import LogisticRegression"
      ],
      "metadata": {
        "id": "qvF2CaNEDri4"
      },
      "execution_count": null,
      "outputs": []
    },
    {
      "cell_type": "markdown",
      "source": [
        "#**Procesar y crear un modelo de predicción para el dataset de german_credit con pyspark**\n",
        "---\n"
      ],
      "metadata": {
        "id": "8wipH57VIypR"
      }
    },
    {
      "cell_type": "code",
      "source": [
        "df_german = spark.read.csv(\"/content/german_credit_data.csv\", inferSchema = True, header = True)"
      ],
      "metadata": {
        "id": "6wG1IsQTI8Tq"
      },
      "execution_count": null,
      "outputs": []
    },
    {
      "cell_type": "code",
      "source": [
        "df_german.show()"
      ],
      "metadata": {
        "colab": {
          "base_uri": "https://localhost:8080/"
        },
        "id": "14Othd9mOO2b",
        "outputId": "1ced4625-65ec-46ab-c04a-0932d5bd36ef"
      },
      "execution_count": null,
      "outputs": [
        {
          "output_type": "stream",
          "name": "stdout",
          "text": [
            "+---+---+------+---+-------+---------------+----------------+-------------+--------+-------------------+----+\n",
            "|_c0|Age|   Sex|Job|Housing|Saving accounts|Checking account|Credit amount|Duration|            Purpose|Risk|\n",
            "+---+---+------+---+-------+---------------+----------------+-------------+--------+-------------------+----+\n",
            "|  0| 67|  male|  2|    own|             NA|          little|         1169|       6|           radio/TV|good|\n",
            "|  1| 22|female|  2|    own|         little|        moderate|         5951|      48|           radio/TV| bad|\n",
            "|  2| 49|  male|  1|    own|         little|              NA|         2096|      12|          education|good|\n",
            "|  3| 45|  male|  2|   free|         little|          little|         7882|      42|furniture/equipment|good|\n",
            "|  4| 53|  male|  2|   free|         little|          little|         4870|      24|                car| bad|\n",
            "|  5| 35|  male|  1|   free|             NA|              NA|         9055|      36|          education|good|\n",
            "|  6| 53|  male|  2|    own|     quite rich|              NA|         2835|      24|furniture/equipment|good|\n",
            "|  7| 35|  male|  3|   rent|         little|        moderate|         6948|      36|                car|good|\n",
            "|  8| 61|  male|  1|    own|           rich|              NA|         3059|      12|           radio/TV|good|\n",
            "|  9| 28|  male|  3|    own|         little|        moderate|         5234|      30|                car| bad|\n",
            "| 10| 25|female|  2|   rent|         little|        moderate|         1295|      12|                car| bad|\n",
            "| 11| 24|female|  2|   rent|         little|          little|         4308|      48|           business| bad|\n",
            "| 12| 22|female|  2|    own|         little|        moderate|         1567|      12|           radio/TV|good|\n",
            "| 13| 60|  male|  1|    own|         little|          little|         1199|      24|                car| bad|\n",
            "| 14| 28|female|  2|   rent|         little|          little|         1403|      15|                car|good|\n",
            "| 15| 32|female|  1|    own|       moderate|          little|         1282|      24|           radio/TV| bad|\n",
            "| 16| 53|  male|  2|    own|             NA|              NA|         2424|      24|           radio/TV|good|\n",
            "| 17| 25|  male|  2|    own|             NA|          little|         8072|      30|           business|good|\n",
            "| 18| 44|female|  3|   free|         little|        moderate|        12579|      24|                car| bad|\n",
            "| 19| 31|  male|  2|    own|     quite rich|              NA|         3430|      24|           radio/TV|good|\n",
            "+---+---+------+---+-------+---------------+----------------+-------------+--------+-------------------+----+\n",
            "only showing top 20 rows\n",
            "\n"
          ]
        }
      ]
    },
    {
      "cell_type": "code",
      "source": [
        "indexer = StringIndexer(inputCols=[\"Sex\",\"Housing\",\"Saving accounts\",\"Checking account\",\"Purpose\",\"Risk\"], outputCols= [\"g_Sex\",\"g_Housing\",\"g_Saving accounts\",\"g_Checking account\",\"g_Purpose\",\"g_Risk\"])\n"
      ],
      "metadata": {
        "id": "_OBfKZReMGBc"
      },
      "execution_count": null,
      "outputs": []
    },
    {
      "cell_type": "code",
      "source": [
        "indexed = indexer.fit(df_german).transform(df_german)\n",
        "indexed.show()"
      ],
      "metadata": {
        "colab": {
          "base_uri": "https://localhost:8080/"
        },
        "id": "PAyjmPp9NdzL",
        "outputId": "e1a2bb10-d86f-412f-d10a-8f65f3f731a1"
      },
      "execution_count": null,
      "outputs": [
        {
          "output_type": "stream",
          "name": "stdout",
          "text": [
            "+---+---+------+---+-------+---------------+----------------+-------------+--------+-------------------+----+-----+---------+-----------------+------------------+---------+------+\n",
            "|_c0|Age|   Sex|Job|Housing|Saving accounts|Checking account|Credit amount|Duration|            Purpose|Risk|g_Sex|g_Housing|g_Saving accounts|g_Checking account|g_Purpose|g_Risk|\n",
            "+---+---+------+---+-------+---------------+----------------+-------------+--------+-------------------+----+-----+---------+-----------------+------------------+---------+------+\n",
            "|  0| 67|  male|  2|    own|             NA|          little|         1169|       6|           radio/TV|good|  0.0|      0.0|              1.0|               1.0|      1.0|   0.0|\n",
            "|  1| 22|female|  2|    own|         little|        moderate|         5951|      48|           radio/TV| bad|  1.0|      0.0|              0.0|               2.0|      1.0|   1.0|\n",
            "|  2| 49|  male|  1|    own|         little|              NA|         2096|      12|          education|good|  0.0|      0.0|              0.0|               0.0|      4.0|   0.0|\n",
            "|  3| 45|  male|  2|   free|         little|          little|         7882|      42|furniture/equipment|good|  0.0|      2.0|              0.0|               1.0|      2.0|   0.0|\n",
            "|  4| 53|  male|  2|   free|         little|          little|         4870|      24|                car| bad|  0.0|      2.0|              0.0|               1.0|      0.0|   1.0|\n",
            "|  5| 35|  male|  1|   free|             NA|              NA|         9055|      36|          education|good|  0.0|      2.0|              1.0|               0.0|      4.0|   0.0|\n",
            "|  6| 53|  male|  2|    own|     quite rich|              NA|         2835|      24|furniture/equipment|good|  0.0|      0.0|              3.0|               0.0|      2.0|   0.0|\n",
            "|  7| 35|  male|  3|   rent|         little|        moderate|         6948|      36|                car|good|  0.0|      1.0|              0.0|               2.0|      0.0|   0.0|\n",
            "|  8| 61|  male|  1|    own|           rich|              NA|         3059|      12|           radio/TV|good|  0.0|      0.0|              4.0|               0.0|      1.0|   0.0|\n",
            "|  9| 28|  male|  3|    own|         little|        moderate|         5234|      30|                car| bad|  0.0|      0.0|              0.0|               2.0|      0.0|   1.0|\n",
            "| 10| 25|female|  2|   rent|         little|        moderate|         1295|      12|                car| bad|  1.0|      1.0|              0.0|               2.0|      0.0|   1.0|\n",
            "| 11| 24|female|  2|   rent|         little|          little|         4308|      48|           business| bad|  1.0|      1.0|              0.0|               1.0|      3.0|   1.0|\n",
            "| 12| 22|female|  2|    own|         little|        moderate|         1567|      12|           radio/TV|good|  1.0|      0.0|              0.0|               2.0|      1.0|   0.0|\n",
            "| 13| 60|  male|  1|    own|         little|          little|         1199|      24|                car| bad|  0.0|      0.0|              0.0|               1.0|      0.0|   1.0|\n",
            "| 14| 28|female|  2|   rent|         little|          little|         1403|      15|                car|good|  1.0|      1.0|              0.0|               1.0|      0.0|   0.0|\n",
            "| 15| 32|female|  1|    own|       moderate|          little|         1282|      24|           radio/TV| bad|  1.0|      0.0|              2.0|               1.0|      1.0|   1.0|\n",
            "| 16| 53|  male|  2|    own|             NA|              NA|         2424|      24|           radio/TV|good|  0.0|      0.0|              1.0|               0.0|      1.0|   0.0|\n",
            "| 17| 25|  male|  2|    own|             NA|          little|         8072|      30|           business|good|  0.0|      0.0|              1.0|               1.0|      3.0|   0.0|\n",
            "| 18| 44|female|  3|   free|         little|        moderate|        12579|      24|                car| bad|  1.0|      2.0|              0.0|               2.0|      0.0|   1.0|\n",
            "| 19| 31|  male|  2|    own|     quite rich|              NA|         3430|      24|           radio/TV|good|  0.0|      0.0|              3.0|               0.0|      1.0|   0.0|\n",
            "+---+---+------+---+-------+---------------+----------------+-------------+--------+-------------------+----+-----+---------+-----------------+------------------+---------+------+\n",
            "only showing top 20 rows\n",
            "\n"
          ]
        }
      ]
    },
    {
      "cell_type": "code",
      "source": [
        "vector = VectorAssembler(inputCols=[\"Age\",\"g_Sex\",\"Job\",\"g_Housing\",\"g_Saving accounts\",\"g_Checking account\",\"Credit amount\",\"Duration\",\"g_Purpose\"], outputCol=\"features\")"
      ],
      "metadata": {
        "id": "gHaeiNIdJQiQ"
      },
      "execution_count": null,
      "outputs": []
    },
    {
      "cell_type": "code",
      "source": [
        "df_vectorsito = vector.transform(indexed)"
      ],
      "metadata": {
        "id": "vIjO5l70KVKg"
      },
      "execution_count": null,
      "outputs": []
    },
    {
      "cell_type": "code",
      "source": [
        "logis_model = LogisticRegression(labelCol=\"g_Risk\")"
      ],
      "metadata": {
        "id": "vMs_w2jRNc8o"
      },
      "execution_count": null,
      "outputs": []
    },
    {
      "cell_type": "code",
      "source": [
        "model_fit = logis_model.fit(df_vectorsito)\n"
      ],
      "metadata": {
        "id": "NZjbLE3FKZdW"
      },
      "execution_count": null,
      "outputs": []
    },
    {
      "cell_type": "code",
      "source": [
        "model_fit.transform(df_vectorsito).show()"
      ],
      "metadata": {
        "colab": {
          "base_uri": "https://localhost:8080/"
        },
        "id": "lJiMDqOQR962",
        "outputId": "369d392c-cfa4-4201-8370-15c822f1e0ec"
      },
      "execution_count": null,
      "outputs": [
        {
          "output_type": "stream",
          "name": "stdout",
          "text": [
            "+---+---+------+---+-------+---------------+----------------+-------------+--------+-------------------+----+-----+---------+-----------------+------------------+---------+------+--------------------+--------------------+--------------------+----------+\n",
            "|_c0|Age|   Sex|Job|Housing|Saving accounts|Checking account|Credit amount|Duration|            Purpose|Risk|g_Sex|g_Housing|g_Saving accounts|g_Checking account|g_Purpose|g_Risk|            features|       rawPrediction|         probability|prediction|\n",
            "+---+---+------+---+-------+---------------+----------------+-------------+--------+-------------------+----+-----+---------+-----------------+------------------+---------+------+--------------------+--------------------+--------------------+----------+\n",
            "|  0| 67|  male|  2|    own|             NA|          little|         1169|       6|           radio/TV|good|  0.0|      0.0|              1.0|               1.0|      1.0|   0.0|[67.0,0.0,2.0,0.0...|[2.41717839481594...|[0.91812789720087...|       0.0|\n",
            "|  1| 22|female|  2|    own|         little|        moderate|         5951|      48|           radio/TV| bad|  1.0|      0.0|              0.0|               2.0|      1.0|   1.0|[22.0,1.0,2.0,0.0...|[-1.0036069535321...|[0.26823284257315...|       1.0|\n",
            "|  2| 49|  male|  1|    own|         little|              NA|         2096|      12|          education|good|  0.0|      0.0|              0.0|               0.0|      4.0|   0.0|[49.0,0.0,1.0,0.0...|[1.83814101372501...|[0.86272870001815...|       0.0|\n",
            "|  3| 45|  male|  2|   free|         little|          little|         7882|      42|furniture/equipment|good|  0.0|      2.0|              0.0|               1.0|      2.0|   0.0|[45.0,0.0,2.0,2.0...|[-0.3317606047427...|[0.41781230266900...|       1.0|\n",
            "|  4| 53|  male|  2|   free|         little|          little|         4870|      24|                car| bad|  0.0|      2.0|              0.0|               1.0|      0.0|   1.0|[53.0,0.0,2.0,2.0...|[0.57901568194791...|[0.64084088332834...|       0.0|\n",
            "|  5| 35|  male|  1|   free|             NA|              NA|         9055|      36|          education|good|  0.0|      2.0|              1.0|               0.0|      4.0|   0.0|[35.0,0.0,1.0,2.0...|[0.27456141206798...|[0.56821238043458...|       0.0|\n",
            "|  6| 53|  male|  2|    own|     quite rich|              NA|         2835|      24|furniture/equipment|good|  0.0|      0.0|              3.0|               0.0|      2.0|   0.0|[53.0,0.0,2.0,0.0...|[2.49988747762430...|[0.92413393136554...|       0.0|\n",
            "|  7| 35|  male|  3|   rent|         little|        moderate|         6948|      36|                car|good|  0.0|      1.0|              0.0|               2.0|      0.0|   0.0|[35.0,0.0,3.0,1.0...|[-0.2686277325901...|[0.43324401565024...|       1.0|\n",
            "|  8| 61|  male|  1|    own|           rich|              NA|         3059|      12|           radio/TV|good|  0.0|      0.0|              4.0|               0.0|      1.0|   0.0|[61.0,0.0,1.0,0.0...|[3.36088267204200...|[0.96645940087007...|       0.0|\n",
            "|  9| 28|  male|  3|    own|         little|        moderate|         5234|      30|                car| bad|  0.0|      0.0|              0.0|               2.0|      0.0|   1.0|[28.0,0.0,3.0,0.0...|[0.17226334961812...|[0.54295965547199...|       0.0|\n",
            "| 10| 25|female|  2|   rent|         little|        moderate|         1295|      12|                car| bad|  1.0|      1.0|              0.0|               2.0|      0.0|   1.0|[25.0,1.0,2.0,1.0...|[0.09090258560757...|[0.52271001029057...|       0.0|\n",
            "| 11| 24|female|  2|   rent|         little|          little|         4308|      48|           business| bad|  1.0|      1.0|              0.0|               1.0|      3.0|   1.0|[24.0,1.0,2.0,1.0...|[-0.9231664894604...|[0.28431313981600...|       1.0|\n",
            "| 12| 22|female|  2|    own|         little|        moderate|         1567|      12|           radio/TV|good|  1.0|      0.0|              0.0|               2.0|      1.0|   0.0|[22.0,1.0,2.0,0.0...|[0.31016398789815...|[0.57692528821304...|       0.0|\n",
            "| 13| 60|  male|  1|    own|         little|          little|         1199|      24|                car| bad|  0.0|      0.0|              0.0|               1.0|      0.0|   1.0|[60.0,0.0,1.0,0.0...|[1.40395112359363...|[0.80281012368295...|       0.0|\n",
            "| 14| 28|female|  2|   rent|         little|          little|         1403|      15|                car|good|  1.0|      1.0|              0.0|               1.0|      0.0|   0.0|[28.0,1.0,2.0,1.0...|[0.47050182564332...|[0.61550252491136...|       0.0|\n",
            "| 15| 32|female|  1|    own|       moderate|          little|         1282|      24|           radio/TV| bad|  1.0|      0.0|              2.0|               1.0|      1.0|   1.0|[32.0,1.0,1.0,0.0...|[1.08326326852537...|[0.74711102972557...|       0.0|\n",
            "| 16| 53|  male|  2|    own|             NA|              NA|         2424|      24|           radio/TV|good|  0.0|      0.0|              1.0|               0.0|      1.0|   0.0|[53.0,0.0,2.0,0.0...|[1.96175925903393...|[0.87672321852719...|       0.0|\n",
            "| 17| 25|  male|  2|    own|             NA|          little|         8072|      30|           business|good|  0.0|      0.0|              1.0|               1.0|      3.0|   0.0|[25.0,0.0,2.0,0.0...|[0.61700005900654...|[0.64953595173280...|       0.0|\n",
            "| 18| 44|female|  3|   free|         little|        moderate|        12579|      24|                car| bad|  1.0|      2.0|              0.0|               2.0|      0.0|   1.0|[44.0,1.0,3.0,2.0...|[-0.5142321562751...|[0.37420193454442...|       1.0|\n",
            "| 19| 31|  male|  2|    own|     quite rich|              NA|         3430|      24|           radio/TV|good|  0.0|      0.0|              3.0|               0.0|      1.0|   0.0|[31.0,0.0,2.0,0.0...|[2.14388311465798...|[0.89509579208781...|       0.0|\n",
            "+---+---+------+---+-------+---------------+----------------+-------------+--------+-------------------+----+-----+---------+-----------------+------------------+---------+------+--------------------+--------------------+--------------------+----------+\n",
            "only showing top 20 rows\n",
            "\n"
          ]
        }
      ]
    },
    {
      "cell_type": "code",
      "source": [],
      "metadata": {
        "id": "suqifXGSSF_m"
      },
      "execution_count": null,
      "outputs": []
    }
  ]
}